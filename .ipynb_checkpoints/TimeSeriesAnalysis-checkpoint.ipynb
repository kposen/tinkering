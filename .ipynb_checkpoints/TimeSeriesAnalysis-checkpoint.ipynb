{
 "cells": [
  {
   "cell_type": "code",
   "execution_count": 31,
   "metadata": {},
   "outputs": [],
   "source": [
    "%matplotlib inline\n",
    "\n",
    "# Modules\n",
    "import datetime as dt\n",
    "import matplotlib.pyplot as plt\n",
    "from statsmodels.graphics.tsaplots import plot_acf\n",
    "import numpy as np\n",
    "from sklearn.preprocessing import MinMaxScaler\n",
    "import os\n",
    "import pandas as pd\n",
    "import scipy as sp\n",
    "\n",
    "# Data\n",
    "data_file_path = ''\n",
    "data_filename = 'spx_history.csv'\n",
    "processed_data_file = 'processed_data.csv'\n",
    "model_input_file = 'model_input.csv'\n",
    "predictions_file = 'predictions.csv'\n",
    "dt_format = '%Y-%m-%d'\n",
    "outlier_std = 100\n",
    "\n",
    "# Investment decision\n",
    "window = 2500 # days\n",
    "investment_horizon = 250 # days\n",
    "stride = 1 #days\n",
    "mov_avg_period = 5 # days"
   ]
  },
  {
   "cell_type": "code",
   "execution_count": 32,
   "metadata": {
    "collapsed": true
   },
   "outputs": [],
   "source": [
    "def get_price_data(filename, dt_format):\n",
    "    prices = pd.read_csv(filename,\n",
    "                         delimiter=',',\n",
    "                         header=0,\n",
    "                         names=['date', 'P_close'],\n",
    "                         index_col=0,\n",
    "                         parse_dates=True,\n",
    "                         date_parser=lambda date_str: dt.datetime.strptime(date_str, dt_format))\n",
    "    return prices"
   ]
  },
  {
   "cell_type": "code",
   "execution_count": 33,
   "metadata": {
    "collapsed": true
   },
   "outputs": [],
   "source": [
    "def get_processed_data(prices_df, investment_horizon):\n",
    "    prices_df['log_P'] = prices_df['P_close'].map(np.log)\n",
    "    prices_df['diff'] = prices_df['log_P'].diff(1)\n",
    "    outlier_threshold = outlier_std * prices_df['diff'].std()\n",
    "    prices_df['cleaned'] = prices_df['diff'][prices_df['diff']\n",
    "                                             .subtract(prices_df['diff'].mean())\n",
    "                                             .abs()\n",
    "                                             .lt(outlier_threshold)]\n",
    "    \n",
    "    pivot = prices_df['cleaned'].median()\n",
    "    scale = prices_df['cleaned'].std()\n",
    "    prices_df['scaled'] = (prices_df['cleaned'] - pivot)/scale\n",
    "\n",
    "    prices_df['smoothed'] = prices_df['log_P'].rolling(mov_avg_period).min()\n",
    "    prices_df['roll_max'] = (prices_df['smoothed']\n",
    "                             .rolling(investment_horizon)\n",
    "                             .max()\n",
    "                             .shift(1-investment_horizon))\n",
    "    prices_df['max_return'] = prices_df['roll_max'].subtract(prices_df['log_P'])\n",
    "\n",
    "    return prices_df.dropna(), pivot, scale"
   ]
  },
  {
   "cell_type": "code",
   "execution_count": 34,
   "metadata": {
    "collapsed": true
   },
   "outputs": [],
   "source": [
    "def save_processed_data(df, filename):\n",
    "    df.to_csv(filename, sep=',')"
   ]
  },
  {
   "cell_type": "code",
   "execution_count": 35,
   "metadata": {},
   "outputs": [],
   "source": [
    "full_filename = os.path.join(data_file_path, data_filename)\n",
    "data = get_price_data(full_filename, dt_format)\n",
    "processed_data, midpoint, scale = get_processed_data(data, investment_horizon)\n",
    "save_processed_data(processed_data, processed_data_file)"
   ]
  },
  {
   "cell_type": "code",
   "execution_count": 36,
   "metadata": {},
   "outputs": [
    {
     "data": {
      "text/html": [
       "<div>\n",
       "<style>\n",
       "    .dataframe thead tr:only-child th {\n",
       "        text-align: right;\n",
       "    }\n",
       "\n",
       "    .dataframe thead th {\n",
       "        text-align: left;\n",
       "    }\n",
       "\n",
       "    .dataframe tbody tr th {\n",
       "        vertical-align: top;\n",
       "    }\n",
       "</style>\n",
       "<table border=\"1\" class=\"dataframe\">\n",
       "  <thead>\n",
       "    <tr style=\"text-align: right;\">\n",
       "      <th></th>\n",
       "      <th>P_close</th>\n",
       "      <th>log_P</th>\n",
       "      <th>diff</th>\n",
       "      <th>cleaned</th>\n",
       "      <th>scaled</th>\n",
       "      <th>smoothed</th>\n",
       "      <th>roll_max</th>\n",
       "      <th>max_return</th>\n",
       "    </tr>\n",
       "  </thead>\n",
       "  <tbody>\n",
       "    <tr>\n",
       "      <th>count</th>\n",
       "      <td>22251.000000</td>\n",
       "      <td>22251.000000</td>\n",
       "      <td>22251.000000</td>\n",
       "      <td>22251.000000</td>\n",
       "      <td>22251.000000</td>\n",
       "      <td>22251.000000</td>\n",
       "      <td>22251.000000</td>\n",
       "      <td>22251.000000</td>\n",
       "    </tr>\n",
       "    <tr>\n",
       "      <th>mean</th>\n",
       "      <td>378.695350</td>\n",
       "      <td>4.701140</td>\n",
       "      <td>0.000217</td>\n",
       "      <td>0.000217</td>\n",
       "      <td>-0.020649</td>\n",
       "      <td>4.689431</td>\n",
       "      <td>4.839718</td>\n",
       "      <td>0.138578</td>\n",
       "    </tr>\n",
       "    <tr>\n",
       "      <th>std</th>\n",
       "      <td>539.889422</td>\n",
       "      <td>1.703756</td>\n",
       "      <td>0.011817</td>\n",
       "      <td>0.011817</td>\n",
       "      <td>1.004597</td>\n",
       "      <td>1.704852</td>\n",
       "      <td>1.689655</td>\n",
       "      <td>0.111641</td>\n",
       "    </tr>\n",
       "    <tr>\n",
       "      <th>min</th>\n",
       "      <td>4.400000</td>\n",
       "      <td>1.481605</td>\n",
       "      <td>-0.228997</td>\n",
       "      <td>-0.228997</td>\n",
       "      <td>-19.507468</td>\n",
       "      <td>1.481605</td>\n",
       "      <td>2.169054</td>\n",
       "      <td>-0.056723</td>\n",
       "    </tr>\n",
       "    <tr>\n",
       "      <th>25%</th>\n",
       "      <td>22.640000</td>\n",
       "      <td>3.119718</td>\n",
       "      <td>-0.004613</td>\n",
       "      <td>-0.004613</td>\n",
       "      <td>-0.431257</td>\n",
       "      <td>3.108614</td>\n",
       "      <td>3.247658</td>\n",
       "      <td>0.055959</td>\n",
       "    </tr>\n",
       "    <tr>\n",
       "      <th>50%</th>\n",
       "      <td>95.790000</td>\n",
       "      <td>4.562158</td>\n",
       "      <td>0.000465</td>\n",
       "      <td>0.000465</td>\n",
       "      <td>0.000488</td>\n",
       "      <td>4.553456</td>\n",
       "      <td>4.653770</td>\n",
       "      <td>0.116761</td>\n",
       "    </tr>\n",
       "    <tr>\n",
       "      <th>75%</th>\n",
       "      <td>463.915000</td>\n",
       "      <td>6.139701</td>\n",
       "      <td>0.005398</td>\n",
       "      <td>0.005398</td>\n",
       "      <td>0.419822</td>\n",
       "      <td>6.134785</td>\n",
       "      <td>6.298912</td>\n",
       "      <td>0.202656</td>\n",
       "    </tr>\n",
       "    <tr>\n",
       "      <th>max</th>\n",
       "      <td>2182.870000</td>\n",
       "      <td>7.688396</td>\n",
       "      <td>0.153661</td>\n",
       "      <td>0.153661</td>\n",
       "      <td>13.024574</td>\n",
       "      <td>7.680905</td>\n",
       "      <td>7.812095</td>\n",
       "      <td>0.988453</td>\n",
       "    </tr>\n",
       "  </tbody>\n",
       "</table>\n",
       "</div>"
      ],
      "text/plain": [
       "            P_close         log_P          diff       cleaned        scaled  \\\n",
       "count  22251.000000  22251.000000  22251.000000  22251.000000  22251.000000   \n",
       "mean     378.695350      4.701140      0.000217      0.000217     -0.020649   \n",
       "std      539.889422      1.703756      0.011817      0.011817      1.004597   \n",
       "min        4.400000      1.481605     -0.228997     -0.228997    -19.507468   \n",
       "25%       22.640000      3.119718     -0.004613     -0.004613     -0.431257   \n",
       "50%       95.790000      4.562158      0.000465      0.000465      0.000488   \n",
       "75%      463.915000      6.139701      0.005398      0.005398      0.419822   \n",
       "max     2182.870000      7.688396      0.153661      0.153661     13.024574   \n",
       "\n",
       "           smoothed      roll_max    max_return  \n",
       "count  22251.000000  22251.000000  22251.000000  \n",
       "mean       4.689431      4.839718      0.138578  \n",
       "std        1.704852      1.689655      0.111641  \n",
       "min        1.481605      2.169054     -0.056723  \n",
       "25%        3.108614      3.247658      0.055959  \n",
       "50%        4.553456      4.653770      0.116761  \n",
       "75%        6.134785      6.298912      0.202656  \n",
       "max        7.680905      7.812095      0.988453  "
      ]
     },
     "execution_count": 36,
     "metadata": {},
     "output_type": "execute_result"
    }
   ],
   "source": [
    "processed_data.describe()"
   ]
  },
  {
   "cell_type": "code",
   "execution_count": 37,
   "metadata": {},
   "outputs": [
    {
     "data": {
      "text/html": [
       "<div>\n",
       "<style>\n",
       "    .dataframe thead tr:only-child th {\n",
       "        text-align: right;\n",
       "    }\n",
       "\n",
       "    .dataframe thead th {\n",
       "        text-align: left;\n",
       "    }\n",
       "\n",
       "    .dataframe tbody tr th {\n",
       "        vertical-align: top;\n",
       "    }\n",
       "</style>\n",
       "<table border=\"1\" class=\"dataframe\">\n",
       "  <thead>\n",
       "    <tr style=\"text-align: right;\">\n",
       "      <th></th>\n",
       "      <th>P_close</th>\n",
       "      <th>log_P</th>\n",
       "      <th>diff</th>\n",
       "      <th>cleaned</th>\n",
       "      <th>scaled</th>\n",
       "      <th>smoothed</th>\n",
       "      <th>roll_max</th>\n",
       "      <th>max_return</th>\n",
       "    </tr>\n",
       "    <tr>\n",
       "      <th>date</th>\n",
       "      <th></th>\n",
       "      <th></th>\n",
       "      <th></th>\n",
       "      <th></th>\n",
       "      <th></th>\n",
       "      <th></th>\n",
       "      <th></th>\n",
       "      <th></th>\n",
       "    </tr>\n",
       "  </thead>\n",
       "  <tbody>\n",
       "    <tr>\n",
       "      <th>1928-01-06</th>\n",
       "      <td>17.66</td>\n",
       "      <td>2.871302</td>\n",
       "      <td>0.006248</td>\n",
       "      <td>0.006248</td>\n",
       "      <td>0.492126</td>\n",
       "      <td>2.865054</td>\n",
       "      <td>3.177220</td>\n",
       "      <td>0.305918</td>\n",
       "    </tr>\n",
       "    <tr>\n",
       "      <th>1928-01-09</th>\n",
       "      <td>17.50</td>\n",
       "      <td>2.862201</td>\n",
       "      <td>-0.009101</td>\n",
       "      <td>-0.009101</td>\n",
       "      <td>-0.812830</td>\n",
       "      <td>2.862201</td>\n",
       "      <td>3.188417</td>\n",
       "      <td>0.326216</td>\n",
       "    </tr>\n",
       "    <tr>\n",
       "      <th>1928-01-10</th>\n",
       "      <td>17.37</td>\n",
       "      <td>2.854745</td>\n",
       "      <td>-0.007456</td>\n",
       "      <td>-0.007456</td>\n",
       "      <td>-0.672978</td>\n",
       "      <td>2.854745</td>\n",
       "      <td>3.188417</td>\n",
       "      <td>0.333672</td>\n",
       "    </tr>\n",
       "    <tr>\n",
       "      <th>1928-01-11</th>\n",
       "      <td>17.35</td>\n",
       "      <td>2.853593</td>\n",
       "      <td>-0.001152</td>\n",
       "      <td>-0.001152</td>\n",
       "      <td>-0.137019</td>\n",
       "      <td>2.853593</td>\n",
       "      <td>3.188417</td>\n",
       "      <td>0.334824</td>\n",
       "    </tr>\n",
       "    <tr>\n",
       "      <th>1928-01-12</th>\n",
       "      <td>17.47</td>\n",
       "      <td>2.860485</td>\n",
       "      <td>0.006893</td>\n",
       "      <td>0.006893</td>\n",
       "      <td>0.546908</td>\n",
       "      <td>2.853593</td>\n",
       "      <td>3.188417</td>\n",
       "      <td>0.327931</td>\n",
       "    </tr>\n",
       "  </tbody>\n",
       "</table>\n",
       "</div>"
      ],
      "text/plain": [
       "            P_close     log_P      diff   cleaned    scaled  smoothed  \\\n",
       "date                                                                    \n",
       "1928-01-06    17.66  2.871302  0.006248  0.006248  0.492126  2.865054   \n",
       "1928-01-09    17.50  2.862201 -0.009101 -0.009101 -0.812830  2.862201   \n",
       "1928-01-10    17.37  2.854745 -0.007456 -0.007456 -0.672978  2.854745   \n",
       "1928-01-11    17.35  2.853593 -0.001152 -0.001152 -0.137019  2.853593   \n",
       "1928-01-12    17.47  2.860485  0.006893  0.006893  0.546908  2.853593   \n",
       "\n",
       "            roll_max  max_return  \n",
       "date                              \n",
       "1928-01-06  3.177220    0.305918  \n",
       "1928-01-09  3.188417    0.326216  \n",
       "1928-01-10  3.188417    0.333672  \n",
       "1928-01-11  3.188417    0.334824  \n",
       "1928-01-12  3.188417    0.327931  "
      ]
     },
     "execution_count": 37,
     "metadata": {},
     "output_type": "execute_result"
    }
   ],
   "source": [
    "processed_data.head()"
   ]
  },
  {
   "cell_type": "code",
   "execution_count": 66,
   "metadata": {},
   "outputs": [
    {
     "data": {
      "image/png": "[encoded data removed]",
      "text/plain": [
       "<matplotlib.figure.Figure at 0x20c43674240>"
      ]
     },
     "metadata": {},
     "output_type": "display_data"
    }
   ],
   "source": [
    "window_length = 2500\n",
    "f, t, Sxx = sp.signal.spectrogram(processed_data['diff'].values,\n",
    "                                  window=sp.signal.boxcar(window_length),\n",
    "                                  noverlap=window_length-1)\n",
    "plt.pcolormesh(t, f, Sxx)\n",
    "plt.ylabel('Frequency [Hz]')\n",
    "plt.xlabel('Time [sec]')\n",
    "plt.show()"
   ]
  },
  {
   "cell_type": "code",
   "execution_count": 55,
   "metadata": {},
   "outputs": [
    {
     "data": {
      "text/plain": [
       "(array([ 0.        ,  0.00390625,  0.0078125 ,  0.01171875,  0.015625  ,\n",
       "         0.01953125,  0.0234375 ,  0.02734375,  0.03125   ,  0.03515625,\n",
       "         0.0390625 ,  0.04296875,  0.046875  ,  0.05078125,  0.0546875 ,\n",
       "         0.05859375,  0.0625    ,  0.06640625,  0.0703125 ,  0.07421875,\n",
       "         0.078125  ,  0.08203125,  0.0859375 ,  0.08984375,  0.09375   ,\n",
       "         0.09765625,  0.1015625 ,  0.10546875,  0.109375  ,  0.11328125,\n",
       "         0.1171875 ,  0.12109375,  0.125     ,  0.12890625,  0.1328125 ,\n",
       "         0.13671875,  0.140625  ,  0.14453125,  0.1484375 ,  0.15234375,\n",
       "         0.15625   ,  0.16015625,  0.1640625 ,  0.16796875,  0.171875  ,\n",
       "         0.17578125,  0.1796875 ,  0.18359375,  0.1875    ,  0.19140625,\n",
       "         0.1953125 ,  0.19921875,  0.203125  ,  0.20703125,  0.2109375 ,\n",
       "         0.21484375,  0.21875   ,  0.22265625,  0.2265625 ,  0.23046875,\n",
       "         0.234375  ,  0.23828125,  0.2421875 ,  0.24609375,  0.25      ,\n",
       "         0.25390625,  0.2578125 ,  0.26171875,  0.265625  ,  0.26953125,\n",
       "         0.2734375 ,  0.27734375,  0.28125   ,  0.28515625,  0.2890625 ,\n",
       "         0.29296875,  0.296875  ,  0.30078125,  0.3046875 ,  0.30859375,\n",
       "         0.3125    ,  0.31640625,  0.3203125 ,  0.32421875,  0.328125  ,\n",
       "         0.33203125,  0.3359375 ,  0.33984375,  0.34375   ,  0.34765625,\n",
       "         0.3515625 ,  0.35546875,  0.359375  ,  0.36328125,  0.3671875 ,\n",
       "         0.37109375,  0.375     ,  0.37890625,  0.3828125 ,  0.38671875,\n",
       "         0.390625  ,  0.39453125,  0.3984375 ,  0.40234375,  0.40625   ,\n",
       "         0.41015625,  0.4140625 ,  0.41796875,  0.421875  ,  0.42578125,\n",
       "         0.4296875 ,  0.43359375,  0.4375    ,  0.44140625,  0.4453125 ,\n",
       "         0.44921875,  0.453125  ,  0.45703125,  0.4609375 ,  0.46484375,\n",
       "         0.46875   ,  0.47265625,  0.4765625 ,  0.48046875,  0.484375  ,\n",
       "         0.48828125,  0.4921875 ,  0.49609375,  0.5       ]),\n",
       " array([   128.,    352.,    576.,    800.,   1024.,   1248.,   1472.,\n",
       "          1696.,   1920.,   2144.,   2368.,   2592.,   2816.,   3040.,\n",
       "          3264.,   3488.,   3712.,   3936.,   4160.,   4384.,   4608.,\n",
       "          4832.,   5056.,   5280.,   5504.,   5728.,   5952.,   6176.,\n",
       "          6400.,   6624.,   6848.,   7072.,   7296.,   7520.,   7744.,\n",
       "          7968.,   8192.,   8416.,   8640.,   8864.,   9088.,   9312.,\n",
       "          9536.,   9760.,   9984.,  10208.,  10432.,  10656.,  10880.,\n",
       "         11104.,  11328.,  11552.,  11776.,  12000.,  12224.,  12448.,\n",
       "         12672.,  12896.,  13120.,  13344.,  13568.,  13792.,  14016.,\n",
       "         14240.,  14464.,  14688.,  14912.,  15136.,  15360.,  15584.,\n",
       "         15808.,  16032.,  16256.,  16480.,  16704.,  16928.,  17152.,\n",
       "         17376.,  17600.,  17824.,  18048.,  18272.,  18496.,  18720.,\n",
       "         18944.,  19168.,  19392.,  19616.,  19840.,  20064.,  20288.,\n",
       "         20512.,  20736.,  20960.,  21184.,  21408.,  21632.,  21856.,\n",
       "         22080.]),\n",
       " array([[  1.37419881e-03,   1.18815235e-01,   2.21773522e-02, ...,\n",
       "           1.59613318e-03,   3.00744642e-04,   4.10019260e-03],\n",
       "        [  1.01575856e+00,   1.30513911e+00,   9.17747922e-01, ...,\n",
       "           3.06912740e-01,   1.42108707e-01,   4.98254075e-02],\n",
       "        [  6.09119663e-01,   5.05958526e-01,   2.88950531e-01, ...,\n",
       "           1.09607722e-01,   1.63491734e-02,   7.76543446e-02],\n",
       "        ..., \n",
       "        [  1.00519904e-05,   5.07154812e-05,   2.91181709e-04, ...,\n",
       "           1.94880086e-05,   1.14836491e-04,   4.20226853e-05],\n",
       "        [  8.11213272e-06,   3.69719058e-05,   2.25710195e-04, ...,\n",
       "           4.16527905e-05,   3.77561379e-05,   3.87590158e-07],\n",
       "        [  4.85876435e-05,   6.03673576e-05,   1.71132416e-07, ...,\n",
       "           1.02676402e-05,   2.07193163e-05,   6.40174162e-06]]))"
      ]
     },
     "execution_count": 55,
     "metadata": {},
     "output_type": "execute_result"
    }
   ],
   "source": [
    "signal"
   ]
  },
  {
   "cell_type": "code",
   "execution_count": 50,
   "metadata": {},
   "outputs": [
    {
     "data": {
      "text/plain": [
       "[<matplotlib.lines.Line2D at 0x20c3e7a68d0>]"
      ]
     },
     "execution_count": 50,
     "metadata": {},
     "output_type": "execute_result"
    },
    {
     "data": {
      "image/png": "[encoded data removed]",
      "text/plain": [
       "<matplotlib.figure.Figure at 0x20c3e584e10>"
      ]
     },
     "metadata": {},
     "output_type": "display_data"
    }
   ],
   "source": [
    "plt.plot(dft)"
   ]
  },
  {
   "cell_type": "code",
   "execution_count": null,
   "metadata": {
    "collapsed": true
   },
   "outputs": [],
   "source": []
  }
 ],
 "metadata": {
  "anaconda-cloud": {},
  "kernelspec": {
   "display_name": "Python [default]",
   "language": "python",
   "name": "python3"
  },
  "language_info": {
   "codemirror_mode": {
    "name": "ipython",
    "version": 3
   },
   "file_extension": ".py",
   "mimetype": "text/x-python",
   "name": "python",
   "nbconvert_exporter": "python",
   "pygments_lexer": "ipython3",
   "version": "3.5.4"
  }
 },
 "nbformat": 4,
 "nbformat_minor": 2
}
