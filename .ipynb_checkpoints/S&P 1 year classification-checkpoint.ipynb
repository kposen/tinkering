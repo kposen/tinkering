{
 "cells": [
  {
   "cell_type": "code",
   "execution_count": 106,
   "metadata": {},
   "outputs": [],
   "source": [
    "# Modules\n",
    "import numpy as np\n",
    "from keras.layers import Dense, Dropout, GaussianNoise, GRU, LSTM, Conv1D\n",
    "from keras.layers.pooling import MaxPooling1D, GlobalAveragePooling1D\n",
    "from keras.callbacks import ModelCheckpoint, EarlyStopping\n",
    "from keras.layers.wrappers import Bidirectional\n",
    "import keras\n",
    "import os\n",
    "import pandas as pd\n",
    "\n",
    "# Source data\n",
    "data_file_path = ''\n",
    "data_filename = 'spx_history.csv'\n",
    "\n",
    "# Model\n",
    "model_file = 'model.hd5'\n",
    "num_epochs = 10000\n",
    "validation_frac = 0.2\n",
    "batch_size = 128\n",
    "optimizer = 'adam'\n",
    "loss = 'binary_crossentropy'\n",
    "metrics = ['accuracy']"
   ]
  },
  {
   "cell_type": "code",
   "execution_count": 72,
   "metadata": {
    "collapsed": true
   },
   "outputs": [],
   "source": [
    "def get_samples(time_series, outcomes, duration, stride):\n",
    "    x, y = zip(*[(time_series[i-duration:i], outcomes[i]) for i in range(duration, len(time_series), stride)])\n",
    "    \n",
    "    return np.array(x), np.array(y)"
   ]
  },
  {
   "cell_type": "code",
   "execution_count": 83,
   "metadata": {
    "collapsed": true
   },
   "outputs": [],
   "source": [
    "full_filename = os.path.join(data_file_path, data_filename)\n",
    "raw_data = pd.read_csv(full_filename, delimiter=',', parse_dates=[1], dayfirst=True)\n",
    "returns = raw_data.iloc[:,1].values\n",
    "decisions = raw_data.iloc[:,2].values\n",
    "\n",
    "x, y = get_samples(returns, decisions, 2500, 1)"
   ]
  },
  {
   "cell_type": "code",
   "execution_count": 84,
   "metadata": {},
   "outputs": [],
   "source": [
    "x = np.expand_dims(x, -1)"
   ]
  },
  {
   "cell_type": "code",
   "execution_count": 85,
   "metadata": {},
   "outputs": [
    {
     "name": "stdout",
     "output_type": "stream",
     "text": [
      "(19751, 2500, 1)\n",
      "(19751,)\n"
     ]
    }
   ],
   "source": [
    "print(x.shape)\n",
    "print(y.shape)"
   ]
  },
  {
   "cell_type": "code",
   "execution_count": 108,
   "metadata": {
    "collapsed": true
   },
   "outputs": [],
   "source": [
    "def get_model():\n",
    "    dropout = 0.5\n",
    "    model = keras.models.Sequential()\n",
    "    \n",
    "    # Convolutions\n",
    "    model.add(Conv1D(32, 2, padding='same', activation='relu', input_shape=(None,1)))\n",
    "    model.add(MaxPooling1D(2, padding='same'))\n",
    "    model.add(Dropout(dropout))\n",
    "    model.add(Conv1D(64, 2, padding='same', activation='relu'))\n",
    "    model.add(MaxPooling1D(2, padding='same'))\n",
    "    model.add(Dropout(dropout))\n",
    "    model.add(Conv1D(128, 2, padding='same', activation='relu'))\n",
    "    model.add(MaxPooling1D(2, padding='same'))\n",
    "    model.add(Dropout(dropout))\n",
    "    model.add(Conv1D(128, 2, padding='same', activation='relu'))\n",
    "    model.add(MaxPooling1D(2, padding='same'))\n",
    "    model.add(Dropout(dropout))\n",
    "    model.add(Conv1D(128, 2, padding='same', activation='relu'))\n",
    "    model.add(MaxPooling1D(2, padding='same'))\n",
    "    model.add(Dropout(dropout))\n",
    "    model.add(Conv1D(128, 2, padding='same', activation='relu'))\n",
    "    model.add(MaxPooling1D(2, padding='same'))\n",
    "    model.add(Dropout(dropout))\n",
    "    model.add(Conv1D(128, 2, padding='same', activation='relu'))\n",
    "    model.add(MaxPooling1D(2, padding='same'))\n",
    "    model.add(Dropout(dropout))\n",
    "    \n",
    "    # Recurrents\n",
    "    model.add(GRU(128, return_sequences=True, go_backwards=True))\n",
    "    model.add(Dropout(dropout))\n",
    "    model.add(GRU(128, return_sequences=False, go_backwards=False))\n",
    "    model.add(Dropout(dropout))\n",
    "    \n",
    "    # Dense for final prediction\n",
    "    model.add(Dense(64, activation='relu'))\n",
    "    model.add(Dropout(dropout))\n",
    "    model.add(Dense(32, activation='relu'))\n",
    "    model.add(Dropout(dropout))\n",
    "    model.add(Dense(16, activation='relu'))\n",
    "    model.add(Dropout(dropout))\n",
    "    model.add(Dense(8, activation='relu'))\n",
    "    model.add(Dropout(dropout))\n",
    "    model.add(Dense(4, activation='relu'))\n",
    "    model.add(Dropout(dropout))\n",
    "    model.add(Dense(2, activation='relu'))\n",
    "    model.add(Dropout(dropout))\n",
    "    model.add(Dense(1, activation='sigmoid'))\n",
    "    \n",
    "    return model"
   ]
  },
  {
   "cell_type": "code",
   "execution_count": 109,
   "metadata": {},
   "outputs": [
    {
     "name": "stdout",
     "output_type": "stream",
     "text": [
      "_________________________________________________________________\n",
      "Layer (type)                 Output Shape              Param #   \n",
      "=================================================================\n",
      "conv1d_85 (Conv1D)           (None, None, 32)          96        \n",
      "_________________________________________________________________\n",
      "max_pooling1d_85 (MaxPooling (None, None, 32)          0         \n",
      "_________________________________________________________________\n",
      "dropout_158 (Dropout)        (None, None, 32)          0         \n",
      "_________________________________________________________________\n",
      "conv1d_86 (Conv1D)           (None, None, 64)          4160      \n",
      "_________________________________________________________________\n",
      "max_pooling1d_86 (MaxPooling (None, None, 64)          0         \n",
      "_________________________________________________________________\n",
      "dropout_159 (Dropout)        (None, None, 64)          0         \n",
      "_________________________________________________________________\n",
      "conv1d_87 (Conv1D)           (None, None, 128)         16512     \n",
      "_________________________________________________________________\n",
      "max_pooling1d_87 (MaxPooling (None, None, 128)         0         \n",
      "_________________________________________________________________\n",
      "dropout_160 (Dropout)        (None, None, 128)         0         \n",
      "_________________________________________________________________\n",
      "conv1d_88 (Conv1D)           (None, None, 128)         32896     \n",
      "_________________________________________________________________\n",
      "max_pooling1d_88 (MaxPooling (None, None, 128)         0         \n",
      "_________________________________________________________________\n",
      "dropout_161 (Dropout)        (None, None, 128)         0         \n",
      "_________________________________________________________________\n",
      "conv1d_89 (Conv1D)           (None, None, 128)         32896     \n",
      "_________________________________________________________________\n",
      "max_pooling1d_89 (MaxPooling (None, None, 128)         0         \n",
      "_________________________________________________________________\n",
      "dropout_162 (Dropout)        (None, None, 128)         0         \n",
      "_________________________________________________________________\n",
      "conv1d_90 (Conv1D)           (None, None, 128)         32896     \n",
      "_________________________________________________________________\n",
      "max_pooling1d_90 (MaxPooling (None, None, 128)         0         \n",
      "_________________________________________________________________\n",
      "dropout_163 (Dropout)        (None, None, 128)         0         \n",
      "_________________________________________________________________\n",
      "conv1d_91 (Conv1D)           (None, None, 128)         32896     \n",
      "_________________________________________________________________\n",
      "max_pooling1d_91 (MaxPooling (None, None, 128)         0         \n",
      "_________________________________________________________________\n",
      "dropout_164 (Dropout)        (None, None, 128)         0         \n",
      "_________________________________________________________________\n",
      "gru_24 (GRU)                 (None, None, 128)         98688     \n",
      "_________________________________________________________________\n",
      "dropout_165 (Dropout)        (None, None, 128)         0         \n",
      "_________________________________________________________________\n",
      "gru_25 (GRU)                 (None, 128)               98688     \n",
      "_________________________________________________________________\n",
      "dropout_166 (Dropout)        (None, 128)               0         \n",
      "_________________________________________________________________\n",
      "dense_68 (Dense)             (None, 64)                8256      \n",
      "_________________________________________________________________\n",
      "dropout_167 (Dropout)        (None, 64)                0         \n",
      "_________________________________________________________________\n",
      "dense_69 (Dense)             (None, 32)                2080      \n",
      "_________________________________________________________________\n",
      "dropout_168 (Dropout)        (None, 32)                0         \n",
      "_________________________________________________________________\n",
      "dense_70 (Dense)             (None, 16)                528       \n",
      "_________________________________________________________________\n",
      "dropout_169 (Dropout)        (None, 16)                0         \n",
      "_________________________________________________________________\n",
      "dense_71 (Dense)             (None, 8)                 136       \n",
      "_________________________________________________________________\n",
      "dropout_170 (Dropout)        (None, 8)                 0         \n",
      "_________________________________________________________________\n",
      "dense_72 (Dense)             (None, 4)                 36        \n",
      "_________________________________________________________________\n",
      "dropout_171 (Dropout)        (None, 4)                 0         \n",
      "_________________________________________________________________\n",
      "dense_73 (Dense)             (None, 2)                 10        \n",
      "_________________________________________________________________\n",
      "dropout_172 (Dropout)        (None, 2)                 0         \n",
      "_________________________________________________________________\n",
      "dense_74 (Dense)             (None, 1)                 3         \n",
      "=================================================================\n",
      "Total params: 360,777\n",
      "Trainable params: 360,777\n",
      "Non-trainable params: 0\n",
      "_________________________________________________________________\n"
     ]
    }
   ],
   "source": [
    "model = get_model()\n",
    "model.summary()\n",
    "model.compile(loss=loss, optimizer=optimizer, metrics=metrics)"
   ]
  },
  {
   "cell_type": "code",
   "execution_count": null,
   "metadata": {},
   "outputs": [
    {
     "name": "stdout",
     "output_type": "stream",
     "text": [
      "Train on 15800 samples, validate on 3951 samples\n",
      "Epoch 1/10000\n",
      " 2688/15800 [====>.........................] - ETA: 210s - loss: 0.6959 - acc: 0.5186"
     ]
    }
   ],
   "source": [
    "checkpointer = ModelCheckpoint(filepath=model_file, monitor='val_loss', save_best_only=True, verbose=1)\n",
    "earlystopper = EarlyStopping(monitor='val_loss', patience=10)\n",
    "\n",
    "training_history = model.fit(x, y, batch_size=batch_size, epochs=num_epochs, verbose=1,\n",
    "          callbacks=[checkpointer, earlystopper], validation_split=validation_frac)"
   ]
  },
  {
   "cell_type": "code",
   "execution_count": null,
   "metadata": {
    "collapsed": true
   },
   "outputs": [],
   "source": []
  }
 ],
 "metadata": {
  "kernelspec": {
   "display_name": "Python 3",
   "language": "python",
   "name": "python3"
  },
  "language_info": {
   "codemirror_mode": {
    "name": "ipython",
    "version": 3
   },
   "file_extension": ".py",
   "mimetype": "text/x-python",
   "name": "python",
   "nbconvert_exporter": "python",
   "pygments_lexer": "ipython3",
   "version": "3.6.2"
  }
 },
 "nbformat": 4,
 "nbformat_minor": 2
}
